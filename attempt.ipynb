{
 "cells": [
  {
   "cell_type": "code",
   "execution_count": 2,
   "id": "c0fadf27",
   "metadata": {},
   "outputs": [],
   "source": [
    "import os\n",
    "from dotenv import load_dotenv\n",
    "import openai\n",
    "from langchain_community.document_loaders import PyPDFLoader\n",
    "from langchain_openai import OpenAIEmbeddings\n",
    "from langchain.text_splitter import RecursiveCharacterTextSplitter\n",
    "from langchain.docstore.document import Document\n",
    "from langchain_community.vectorstores import FAISS\n",
    "from langchain.chains import create_retrieval_chain\n",
    "from langchain.chains.combine_documents import create_stuff_documents_chain\n",
    "from langchain_core.prompts import ChatPromptTemplate\n",
    "from langchain_openai import ChatOpenAI"
   ]
  },
  {
   "cell_type": "code",
   "execution_count": 3,
   "id": "5af4b625",
   "metadata": {},
   "outputs": [],
   "source": [
    "load_dotenv()\n",
    "\n",
    "os.environ[\"OPENAI_API_KEY\"]=os.getenv(\"OPENAI_API_KEY\")\n",
    "os.environ[\"LANGCHAIN_TRACING_V2\"]=\"true\"\n",
    "os.environ[\"LANGCHAIN_API_KEY\"]=os.getenv(\"LANGCHAIN_API_KEY\")"
   ]
  },
  {
   "cell_type": "code",
   "execution_count": 4,
   "id": "3f72c24f",
   "metadata": {},
   "outputs": [],
   "source": [
    "llm = ChatOpenAI(model=\"gpt-3.5-turbo-0125\")"
   ]
  },
  {
   "cell_type": "code",
   "execution_count": 6,
   "id": "80074e32",
   "metadata": {},
   "outputs": [],
   "source": [
    "\n",
    "\n",
    "# Function to load and extract text from all PDFs using PyPDFLoader\n",
    "def load_pdfs(directory):\n",
    "    pdf_texts = []\n",
    "    \n",
    "    for filename in os.listdir(directory):\n",
    "        if filename.endswith(\".pdf\"):\n",
    "            pdf_path = os.path.join(directory, filename)\n",
    "            loader = PyPDFLoader(pdf_path)  # ✅ Use LangChain's PyPDFLoader\n",
    "            documents = loader.load()\n",
    "            text = \"\\n\".join([doc.page_content for doc in documents])  # Extract text from pages\n",
    "    \n",
    "    return text"
   ]
  },
  {
   "cell_type": "code",
   "execution_count": 7,
   "id": "eeec684e",
   "metadata": {},
   "outputs": [],
   "source": [
    "# Define the directory containing PDFs\n",
    "pdf_data = load_pdfs(os.path.join(os.getcwd(), \"data\"))"
   ]
  },
  {
   "cell_type": "code",
   "execution_count": 8,
   "id": "200dad6f",
   "metadata": {},
   "outputs": [
    {
     "data": {
      "text/plain": [
       "\"A STUDY ON ATTITUDE OF URBAN AND RURAL COLLEGE STUDENT \\nTEACHERS TOWARDS SCIENCE\\n* Research Scholar, Manonmaniam Sundaranar University, Tirunelveli.\\n** Assistant Professor in Physical Science, St.Xavier's College of Education, Palayamkottai.\\nABSTRACT\\nThere is a great need to identify and develop positive attitude towards science subject of student teachers. The time has \\ncome to increase our efforts to develop positive attitude towards science subject among teachers, student teachers \\nand school children. This is an immediate requirement of the present day.  This paper reports on attitude of student \\nteachers towards science with respect to their locality of the college. The sample consists of 1080 student teachers of \\nMadurai revenue district. A scale on attitude towards science was used to get the data from the student teachers. \\nPercentage Analysis, Mean, Standard Deviation and ’t'tests were used for analyzing the data. The results showed that \\nthere is no significant difference in attitude towards science of urban and rural student teachers.\\nKeywords: Attitude Towards Science, Student Teachers, Locality of the College.\\nS. PRAKASH *                                                             S. AMALADOSS XAVIER **\\nBy\\nINTRODUCTION\\nScience is one of those human activities that man has \\ncreated to gratify certain human needs and desires. \\nCuriosity has been the greatest motive power of scientific \\nresearch. The search for truth has become the dominant \\nfactor in persuasion of science. As it is under persuasion \\nsince so many centuries it has attracted the attention of a \\nmuch persisted group of people. (Conant,1951)\\nScience is no longer confined to a few seriously devoted \\npersons. Since the life in the present world invariably \\nwarrants to variable degrees of scientific facts and laws, \\nscience has now become a part of general education. \\n(Best,1982) Science takes its place side by side with other \\nsubjects as an essential element of one's education. It \\naffords knowledge of certain facts and laws and an insight \\ninto methods and data peculiar to the domain of \\nscience. (Sharma,1989) However, the inclusion of any \\nsubject in the curriculum should satisfy the intellectual, \\nutilitarian, vocational, cultural, moral and aesthetic \\nvalues. Besides these, the teaching of science imparts \\ntraining in the scientific method and develops positive \\nattitude towards science subject, scientific aptitude, \\nwhich are very valuable and at the same time are \\ntransferable to other situations in the life of the learners. \\nThe qualities imbibed by the learner through learning \\nscience are of great value to the citizens living in the \\nsociety.(Vaidya&Narendra,1976)\\nThe Scientific Policy Resolution of the Govt. of India (1958) \\nstates that “The dominating feature of the contemporary \\nworld is the intense cultivation to meet the country's \\nrequirement. Science has now become a compulsory \\nsubject in the school curriculum in every system of school \\neducation right from the elementary stage, because of its \\nmultifarious values gifted to the individual as well as to the \\nsociety.”(Bhaskar rao ,1997)\\nAn attitude is an emotional reaction towards a person or \\nthing. It is a personal response to an object, developed \\nthrough experience which can be characterized as \\nfavourable or unfavourable.(Hilgard,Atkinson \\n&Atkinson,1958). The use of science as the object or \\nstimulus of these feelings delineates that set of attitudes \\nknown as 'attitude towards science' (Bhandula et al., \\n1985)\\nNeed for the Study \\nAs one of the researchers and a teacher educator working \\nin self finance teacher education institution, the \\ninvestigator had informal chats with the B.Ed. students and \\ncame to know about their level of attitude towards \\nRESEARCH PAPERS\\n13li-manager’s Journal o  Psychology, Vol.   No. 3 ln Educational  7  November  - January 2014 2013\\nRESEARCH PAPERS\\nquestionnaire consists of 25 items. Among them 13 are \\npositive items and 12 are negative items. The tool \\nincluded four dimensions namely personal confidence \\nabout the subject matter, involvement with the subject, \\nusefulness of the subject content and perception of \\nteacher's attitude.\\n·Personal Data Sheet prepared by the investigator.\\nData Analysis\\nTo interpret the raw data, analyses were done using \\nPercentage Analysis, Mean, Standard Deviation and \\n't'test. The results of the analyses are presented in the \\nTables 1,2,3. The results showed that,\\n1. The level of attitude towards science and its dimensions \\nof all student teachers is moderate\\n2 .The level of attitude towards science and its dimensions \\nof student teachers in terms of locality of the college is \\nmoderate.\\nNull Hypotheses \\n3. There is no significant difference in the attitude towards \\nscience and its dimensions of student teachers with \\nrespect to their locality of the college.\\nIt is inferred from Table 3 that there is no significant \\ndifference between urban college student teachers and \\nrural college student teachers in their attitude towards \\nscience in total, and its dimensions-personal confidence \\nabout the subject matter, involvement with the subject, \\nand usefulness of the subject content, whereas there is \\nsignificant difference between urban and rural college \\nstudent teachers in the dimension-perception of \\nteacher's attitude.\\nFrom the mean value, it is found that urban college \\nstudent teachers (M=11.13, S=2.772)are better in their \\nperception of teacher's attitude than rural college student \\nteachers (M=10.77,S=2.803).\\nFindings\\n1. a) 22.9% of the student teachers have high level of \\npersonal confidence about the subject matter.\\nb) 25.9% of the student teachers have high level of \\ninvolvement with the subject.\\nc) 27.6% of the student teachers have high level of \\nscience. The author came to know that many student \\nteachers did not possess adequate level of attitude \\ntowards science which is very much needed for them to \\nundergo teacher education programme successfully \\nthat would help them to become successful teachers in \\nthe future and prepare the youngers for a bright future of \\nthe nation. As science is a universal subject, the \\ninvestigator wanted to study the effect of locality on the \\ncollege of student teachers upon attitude towards \\nscience. Under these circumstances, the investigator has \\ndecided to undertake a study on attitude of urban and \\nrural college student teachers towards science.\\nObjectives\\n·To find out the level of attitude towards science and its \\ndimensions of student teachers.\\n·To find out whether there is any significant difference \\nin the attitude towards science and its dimensions of \\nstudent teachers with respect to their locality of the \\ncollege\\nHypotheses\\n·The level of attitude towards science and its \\ndimensions of student teachers is moderate.\\n·There is no significant difference in the attitude \\ntowards science and its dimensions of student teachers \\nwith respect to their locality of the college..\\nMethodology\\nSurvey method of research was adopted for the study. \\n(Garrett&Woodworth, 1969)\\nPopulation and Sample for the Study\\nThe population for the present study consists of all B.Ed. \\nstudents of Madurai revenue district.1080 B.Ed. students \\nfrom 20 colleges of education, Madurai revenue district \\nwere selected through Random Sampling Technique for \\nthe study. The overall response rate was 82%.\\nTools Used for the Study\\nFor the present study, the investigator used the following \\ntools,\\n·Attitude towards Science Scale prepared and \\nvalidated by the investigator.\\n\\x97A Likert scale was constructed. (Edwards, 1967).The \\n14 li-manager’s Journal o  Psychology, Vol.   No. 3 ln Educational  7  November  - January 2014 2013\\nDimensions Nature of the \\ncollege Mean SD Calculated \\n‘t’ Value ‘p’ Value\\nRemarks \\nat 5% \\nLevel\\nPersonal \\nconfidence about \\nthe subject \\nmatter\\nUrban 26.13 5.131\\n1.402 0.161 NS\\nRural 25.71 4.806\\nInvolvement with  \\nthe subject\\nUrban 25.97 5.037 0.343 0.732 NS\\nRural 26.08 5.178\\nUsefulness of the \\nsubject content\\nUrban 20.74 4.676 1.467 0.143 NS\\nRural 20.31 4.804\\nPerception of \\nteacher’s attitude\\nUrban 11.13 2.772 2.056 0.040 S\\nRural 10.77 2.803\\nAttitude towards \\nscience in total\\nUrban 84.02 13.462 1.901 0.058 NS\\nRural 82.44 13.559\\nTable 3. Significant difference between urban and rural \\ncollege student teachers in their attitude towards \\nscience and its dimensions\\nRESEARCH PAPERS\\nusefulness of the subject content.\\nd) 28% of the student teachers have high level of \\nperception of teacher's attitude.\\ne) 25.1% of the student teachers have high level of \\nattitude towards science in total. (From Table 1)\\n2. a) 26.7% of the urban college student teachers have \\nhigh level of personal confidence about the subject \\nmatter and 20.1% of the rural college student teachers \\nhave high level of personal confidence about the subject \\nmatter.\\n b) 24.7% of the urban college student teachers have high \\nlevel of involvement with the subject and 26.8% of the \\nrural college student teachers have high level of \\ninvolvement with the subject.\\nc) 29.8 % of the urban college student teachers have high \\nlevel usefulness of the subject content and 26.0% of the \\nrural college student teachers have high level of \\nusefulness of the subject content.\\nd) 31.5% of the urban college student teachers have high \\nlevel of perception of teacher's attitude and 25.4% of the \\nrural college student teachers have high level of \\nperception of teacher's attitude.\\ne) 27.6 % of the urban college student teachers have high \\nlevel of attitude towards science in total and 23.3% of the \\nrural college student teachers have high level of attitude \\ntowards science in total.(From Table 2)\\n3.  There is no significant difference between urban \\ncollege student teachers and rural college student \\nteachers in their attitude towards science in total and its \\ndimensions-personal confidence about the subject \\nmatter, involvement with the subject, and usefulness of \\nthe subject content, whereas there is significant \\ndifference between urban and rural college student \\nteachers in the dimension-perception of teacher's \\nattitude.(From Table 3)\\nDiscussion\\nFrom the present investigation, it is found that only 25.1% \\nof the sample has high level of attitude towards science. \\nWhile studying in terms of dimensions of attitude towards \\nscience, very small amount of the respondents have high \\nlevel of personal confidence about the subject matter, \\ninvolvement with the subject, usefulness of the subject \\ncontent and perception of teacher's attitude. Moreover \\nmajority of the sample have moderate level of attitude \\ntowards science and its dimensions. This implies that the \\nstudent teachers might have been exposed to minimum \\nlevels of science activities in their under graduate level \\nand hence they possess a moderate level of attitude \\ntowards science.\\nDimensions Low Moderate High\\nN % N % N %\\nPersonal Confidence \\nabout the subject \\nmatter\\n257 23.8 576 53.3 247 22.9\\nInvolvement \\nwith the subject 279 25.8 521 48.2 280 25.9\\nUsefulness of the \\nsubject content 289 26.8 493 45.6 298 27.6\\nPerception of \\nteacher’s attitude 322 29.8 456 42.2 302 28.0\\nAttitude towards \\nscience in total 278 25.7 531 49.2 271 25.1\\nTable 1. Level of attitude of student teachers towards \\nscience and its dimensions\\nDimensions Locality Low Moderate High\\nN % N % N %\\nPersonal confidence \\nabout the subject \\nmatter\\nUrban 110 24.0 225 49.2 122 26.7\\nRural 147 23.6 351 56.3 125 20.1\\nInvolvement with the \\nsubject\\nUrban 120 26.3 224 49.0 113 24.7\\nRural 159 25.5 297 47.7 167 26.8\\nUsefulness of the \\nsubject content\\nUrban 116 25.4 205 44.9 136 29.8\\nRural 173 27.8 288 46.2 162 26.0\\nPerception of teacher’s \\nattitude\\nUrban 126 27.6 187 40.9 144 31.5\\nRural 196 31.5 269 43.2 158 25.4\\nAttitude towards \\nscience in total\\nUrban 121 26.5 210 46.0 126 27.6\\nRural 157 25.2 321 51.5 145 23.3\\nTable 2. Level of attitude of student teachers towards science \\nand its dimensions in terms of  locality of the college\\n15li-manager’s Journal o  Psychology, Vol.   No. 3 ln Educational  7  November  - January 2014 2013\\nRESEARCH PAPERS\\nWith the sample of the study classified in terms of their \\nlocality of the college, it is observed that the 27.6 % of \\nurban college student teachers have high level of attitude \\ntowards science and only 27.3 % of rural college student \\nteachers have high level of attitude towards science. In \\nthe dimensions, personal confidence about the subject \\nmatter, involvement with the subject, and usefulness of \\nthe subject content, and in perception of teacher's \\nattitude urban college student teachers are found to be \\nbetter than the rural college student teachers. This may be \\ndue to the fact that urban college student teachers have \\nopportunities of better infrastructural facilities, versatile \\nand qualified faculties and use of technological \\nresources.\\nFrom the analysis of data in the present investigation, \\nurban college and rural college student teachers do not \\ndiffer significantly in their personal confidence about the \\nsubject matter, involvement with the subject and \\nusefulness of the subject content and attitude towards \\nscience in total whereas they differ significantly in their \\nperception of teacher's attitude. This may be due to the \\nfact that urban college student teachers feel free to talk to \\ntheir teachers and clarify their doubts regarding the \\nsubject and their career than rural college student \\nteachers.\\nRecommendations\\nThe authors suggested the following for improving the \\nattitude towards science of student teachers:\\n·It is found that attitude towards science of student \\nteachers is moderate.The rural teacher educational \\ninstitutions  should  provide rich environment to improve \\nthe science learning skill of the students.\\n·Science exhibitions should be organized in institutions \\nto stimulate student teachers natural curiosity. \\n·Science club, Eco club and Nature club should be \\nestablished in institutions to encourage the student \\nteachers to participate in club activities.\\n·The institutions should arrange outdoor activities like \\ngardening, nature walk, visiting industries, camping etc in \\norder to increase the attitude of student teachers in \\nscience.\\n·Student teachers should be encouraged to read \\nmagazines and Journals that deal with science.\\n·Co-curricular and Extracurricular activities should be \\nencouraged to promote awareness about science. \\n·The mass media available may be properly utilized to \\ncreate awareness towards science.\\n·The institutions should provide high quality teacher \\neducators to teach science.\\nConclusion\\nThe author concluded that the locality-wise analysis on \\nattitude of student teachers towards science brought out \\nthe fact that the rural college student teachers are lacking \\nin personal confidence about the subject matter, \\ninvolvement with the subject, usefulness of the subject \\ncontent, perception of teacher's attitude and attitude \\ntowards science in total.\\nReferences\\n[1]. Aggarwal, R. N. (1964). “Educational and \\nPsychological measurement”. Agra: Kalidass Printing \\nPress.\\n[2]. Aggarwal, Y.P. (2006). “Statistical Methods: Concepts, \\nApplication and Computation”. New Delhi: Sterling \\nPublishers Pvt. Limited.\\n[3]. Best, John W. (1982). “Research in Science \\nEducation”. 4th Ed., New Delhi: Prentice Hall of India \\nPrivate Limited.\\n[4]. Bhandula, N., Chadha, P.C., Sharma,S. and Bhasin, \\nM.P.(1985). “Teaching of Science”. Ludhiana: Prakash \\nBrothers.\\n[5]. Bhaskara Rao, D. (1997). “Scientific Attitude”. New \\nDelhi: Discovery Publishing House.\\n[6]. Conant, J.B. (1951). “Science and Common Sense”. \\nNew Haven: Yale university press. \\n[7]. Crow, D. Laster and Crow Alice (1973). “Educational \\nPsychology”. New Delhi: Eurasia Publishing House Private \\nLimited.\\n[8]. Dandapani, S.(2006). “A text book of Advanced \\nEducational Psychology”. New Delhi: Anmol Publications \\nPrivate Limited.\\n[9]. Edwards Allen, L. (1967). “Techniques of Attitude \\n16 li-manager’s Journal o  Psychology, Vol.   No. 3 ln Educational  7  November  - January 2014 2013\\nRESEARCH PAPERS\\nscale Construction”. New York: Appleton Century Crafts \\nInc.\\n[10]. Elizabeth, B. Hurlock. (1981). “Developmental \\nPsychology”, A life span approach. 5th Ed., New Delhi: \\nTata-McGraw Hill Publishing Company limited.\\n[11]. Ernest, R. Hilgard, Richard, C.Atkinson and Rita,L. \\nAtkinson. (1958). “Introduction to Psychology”. 6th Ed., \\nNew Delhi: Oxford and IBH Publishing Company Private \\nLimited.\\n[12]. Garret, H. E. and Woodworth, R.S. (1969). “Statistics \\nin Psychology and Education”.5th Ed., Bombay: Vakils \\nFefer and Sons Private Limited.\\n[13]. Sharma, R. C. (1989). “Modern Science Teaching”. \\nNew Delhi: Dhanpat Rai and sons.\\n[14]. Vaidya and Narendra. (1976). “The Impact of \\nScience Teaching”. New Delhi: Oxford and IBH Publishing \\nCompany.\\nMr.S.Prakash is a research scholar at Manonmaniam Sundaranar University, Tirunelveli. Presently he is working as Assistant \\nProfessor in Physical science at Velammal College of  Education, Ladenendal, Sivagangai district, Tamilnadu. He has obtained \\nBachelor degree in Chemistry at American College, Madurai and Master degree in Chemistry at Madura college, Madurai. He \\ncompleted his B.Ed., M.Ed. and M.Phil degrees in Education from Madurai Kamaraj University, Madurai. He has 7 years of \\nteaching experience in Colleges of Education. He has published 6 research articles and presented 15 papers. His areas of \\ninterest are science education, guidance and counselling and educational psychology.\\nDr S Amaladoss Xavier, SJ is currently working as an Assistant Professor in Physical Science at St Xavier's College of Education, \\nPalayamkottai, TamilNadu. He has completed M.Sc., M.Phil.in Chemistry, M.Ed and Doctorate in Education, and MBA. He has \\n12 years working experience as PG Assistant in Chemistry. He has published more than 30 Research articles and presented 35 \\npapers in National and International seminars. He has also received the Best Chemistry Teacher Award in 1998-1999 from Jain \\nMahavir Association, Chennai. His areas of interest are research, soft skills and educational psychology.\\nABOUT THE AUTHORS\\n17li-manager’s Journal o  Psychology, Vol.   No. 3 ln Educational  7  November  - January 2014 2013\""
      ]
     },
     "execution_count": 8,
     "metadata": {},
     "output_type": "execute_result"
    }
   ],
   "source": [
    "# Print extracted text for verification\n",
    "pdf_data"
   ]
  },
  {
   "cell_type": "code",
   "execution_count": 9,
   "id": "eff7f9ab",
   "metadata": {},
   "outputs": [],
   "source": [
    "def recursive_text_split(text, chunk_size=500, chunk_overlap=50):\n",
    "    \"\"\"\n",
    "    Recursively splits text into chunks while preserving hierarchical structure.\n",
    "\n",
    "    Args:\n",
    "    - text (str): The full text to be split.\n",
    "    - chunk_size (int): Max size of each chunk.\n",
    "    - chunk_overlap (int): Overlapping portion for context retention.\n",
    "\n",
    "    Returns:\n",
    "    - List of structured text chunks.\n",
    "    \"\"\"\n",
    "    splitter = RecursiveCharacterTextSplitter(\n",
    "        chunk_size=chunk_size,\n",
    "        chunk_overlap=chunk_overlap,\n",
    "        separators=[\"\\n\\n\", \"\\n\", \" \", \"\"],  # Breaks at paragraph, sentence, word levels\n",
    "    )\n",
    "\n",
    "    return splitter.split_text(text)"
   ]
  },
  {
   "cell_type": "code",
   "execution_count": 10,
   "id": "9fa89062",
   "metadata": {},
   "outputs": [],
   "source": [
    "text_chunks = recursive_text_split(pdf_data)"
   ]
  },
  {
   "cell_type": "code",
   "execution_count": 11,
   "id": "fe5cd3b6",
   "metadata": {},
   "outputs": [],
   "source": [
    "embeddings_model = OpenAIEmbeddings()"
   ]
  },
  {
   "cell_type": "code",
   "execution_count": 12,
   "id": "65d92b7d",
   "metadata": {},
   "outputs": [],
   "source": [
    "documents = [Document(page_content=chunk) for chunk in text_chunks]"
   ]
  },
  {
   "cell_type": "code",
   "execution_count": 55,
   "id": "d7a6f9bf",
   "metadata": {},
   "outputs": [
    {
     "data": {
      "text/plain": [
       "[Document(metadata={}, page_content=\"A STUDY ON ATTITUDE OF URBAN AND RURAL COLLEGE STUDENT \\nTEACHERS TOWARDS SCIENCE\\n* Research Scholar, Manonmaniam Sundaranar University, Tirunelveli.\\n** Assistant Professor in Physical Science, St.Xavier's College of Education, Palayamkottai.\\nABSTRACT\\nThere is a great need to identify and develop positive attitude towards science subject of student teachers. The time has \\ncome to increase our efforts to develop positive attitude towards science subject among teachers, student teachers\"),\n",
       " Document(metadata={}, page_content=\"and school children. This is an immediate requirement of the present day.  This paper reports on attitude of student \\nteachers towards science with respect to their locality of the college. The sample consists of 1080 student teachers of \\nMadurai revenue district. A scale on attitude towards science was used to get the data from the student teachers. \\nPercentage Analysis, Mean, Standard Deviation and ’t'tests were used for analyzing the data. The results showed that\"),\n",
       " Document(metadata={}, page_content='there is no significant difference in attitude towards science of urban and rural student teachers.\\nKeywords: Attitude Towards Science, Student Teachers, Locality of the College.\\nS. PRAKASH *                                                             S. AMALADOSS XAVIER **\\nBy\\nINTRODUCTION\\nScience is one of those human activities that man has \\ncreated to gratify certain human needs and desires. \\nCuriosity has been the greatest motive power of scientific'),\n",
       " Document(metadata={}, page_content='research. The search for truth has become the dominant \\nfactor in persuasion of science. As it is under persuasion \\nsince so many centuries it has attracted the attention of a \\nmuch persisted group of people. (Conant,1951)\\nScience is no longer confined to a few seriously devoted \\npersons. Since the life in the present world invariably \\nwarrants to variable degrees of scientific facts and laws, \\nscience has now become a part of general education.'),\n",
       " Document(metadata={}, page_content=\"(Best,1982) Science takes its place side by side with other \\nsubjects as an essential element of one's education. It \\naffords knowledge of certain facts and laws and an insight \\ninto methods and data peculiar to the domain of \\nscience. (Sharma,1989) However, the inclusion of any \\nsubject in the curriculum should satisfy the intellectual, \\nutilitarian, vocational, cultural, moral and aesthetic \\nvalues. Besides these, the teaching of science imparts\"),\n",
       " Document(metadata={}, page_content='training in the scientific method and develops positive \\nattitude towards science subject, scientific aptitude, \\nwhich are very valuable and at the same time are \\ntransferable to other situations in the life of the learners. \\nThe qualities imbibed by the learner through learning \\nscience are of great value to the citizens living in the \\nsociety.(Vaidya&Narendra,1976)\\nThe Scientific Policy Resolution of the Govt. of India (1958) \\nstates that “The dominating feature of the contemporary'),\n",
       " Document(metadata={}, page_content=\"world is the intense cultivation to meet the country's \\nrequirement. Science has now become a compulsory \\nsubject in the school curriculum in every system of school \\neducation right from the elementary stage, because of its \\nmultifarious values gifted to the individual as well as to the \\nsociety.”(Bhaskar rao ,1997)\\nAn attitude is an emotional reaction towards a person or \\nthing. It is a personal response to an object, developed \\nthrough experience which can be characterized as\"),\n",
       " Document(metadata={}, page_content=\"through experience which can be characterized as \\nfavourable or unfavourable.(Hilgard,Atkinson \\n&Atkinson,1958). The use of science as the object or \\nstimulus of these feelings delineates that set of attitudes \\nknown as 'attitude towards science' (Bhandula et al., \\n1985)\\nNeed for the Study \\nAs one of the researchers and a teacher educator working \\nin self finance teacher education institution, the \\ninvestigator had informal chats with the B.Ed. students and\"),\n",
       " Document(metadata={}, page_content=\"came to know about their level of attitude towards \\nRESEARCH PAPERS\\n13li-manager’s Journal o  Psychology, Vol.   No. 3 ln Educational  7  November  - January 2014 2013\\nRESEARCH PAPERS\\nquestionnaire consists of 25 items. Among them 13 are \\npositive items and 12 are negative items. The tool \\nincluded four dimensions namely personal confidence \\nabout the subject matter, involvement with the subject, \\nusefulness of the subject content and perception of \\nteacher's attitude.\"),\n",
       " Document(metadata={}, page_content=\"teacher's attitude.\\n·Personal Data Sheet prepared by the investigator.\\nData Analysis\\nTo interpret the raw data, analyses were done using \\nPercentage Analysis, Mean, Standard Deviation and \\n't'test. The results of the analyses are presented in the \\nTables 1,2,3. The results showed that,\\n1. The level of attitude towards science and its dimensions \\nof all student teachers is moderate\\n2 .The level of attitude towards science and its dimensions\"),\n",
       " Document(metadata={}, page_content='of student teachers in terms of locality of the college is \\nmoderate.\\nNull Hypotheses \\n3. There is no significant difference in the attitude towards \\nscience and its dimensions of student teachers with \\nrespect to their locality of the college.\\nIt is inferred from Table 3 that there is no significant \\ndifference between urban college student teachers and \\nrural college student teachers in their attitude towards \\nscience in total, and its dimensions-personal confidence'),\n",
       " Document(metadata={}, page_content=\"about the subject matter, involvement with the subject, \\nand usefulness of the subject content, whereas there is \\nsignificant difference between urban and rural college \\nstudent teachers in the dimension-perception of \\nteacher's attitude.\\nFrom the mean value, it is found that urban college \\nstudent teachers (M=11.13, S=2.772)are better in their \\nperception of teacher's attitude than rural college student \\nteachers (M=10.77,S=2.803).\\nFindings\"),\n",
       " Document(metadata={}, page_content='teachers (M=10.77,S=2.803).\\nFindings\\n1. a) 22.9% of the student teachers have high level of \\npersonal confidence about the subject matter.\\nb) 25.9% of the student teachers have high level of \\ninvolvement with the subject.\\nc) 27.6% of the student teachers have high level of \\nscience. The author came to know that many student \\nteachers did not possess adequate level of attitude \\ntowards science which is very much needed for them to \\nundergo teacher education programme successfully'),\n",
       " Document(metadata={}, page_content='undergo teacher education programme successfully \\nthat would help them to become successful teachers in \\nthe future and prepare the youngers for a bright future of \\nthe nation. As science is a universal subject, the \\ninvestigator wanted to study the effect of locality on the \\ncollege of student teachers upon attitude towards \\nscience. Under these circumstances, the investigator has \\ndecided to undertake a study on attitude of urban and \\nrural college student teachers towards science.\\nObjectives'),\n",
       " Document(metadata={}, page_content='Objectives\\n·To find out the level of attitude towards science and its \\ndimensions of student teachers.\\n·To find out whether there is any significant difference \\nin the attitude towards science and its dimensions of \\nstudent teachers with respect to their locality of the \\ncollege\\nHypotheses\\n·The level of attitude towards science and its \\ndimensions of student teachers is moderate.\\n·There is no significant difference in the attitude \\ntowards science and its dimensions of student teachers'),\n",
       " Document(metadata={}, page_content='with respect to their locality of the college..\\nMethodology\\nSurvey method of research was adopted for the study. \\n(Garrett&Woodworth, 1969)\\nPopulation and Sample for the Study\\nThe population for the present study consists of all B.Ed. \\nstudents of Madurai revenue district.1080 B.Ed. students \\nfrom 20 colleges of education, Madurai revenue district \\nwere selected through Random Sampling Technique for \\nthe study. The overall response rate was 82%.\\nTools Used for the Study'),\n",
       " Document(metadata={}, page_content='Tools Used for the Study\\nFor the present study, the investigator used the following \\ntools,\\n·Attitude towards Science Scale prepared and \\nvalidated by the investigator.\\n\\x97A Likert scale was constructed. (Edwards, 1967).The \\n14 li-manager’s Journal o  Psychology, Vol.   No. 3 ln Educational  7  November  - January 2014 2013\\nDimensions Nature of the \\ncollege Mean SD Calculated \\n‘t’ Value ‘p’ Value\\nRemarks \\nat 5% \\nLevel\\nPersonal \\nconfidence about \\nthe subject \\nmatter\\nUrban 26.13 5.131'),\n",
       " Document(metadata={}, page_content='the subject \\nmatter\\nUrban 26.13 5.131\\n1.402 0.161 NS\\nRural 25.71 4.806\\nInvolvement with  \\nthe subject\\nUrban 25.97 5.037 0.343 0.732 NS\\nRural 26.08 5.178\\nUsefulness of the \\nsubject content\\nUrban 20.74 4.676 1.467 0.143 NS\\nRural 20.31 4.804\\nPerception of \\nteacher’s attitude\\nUrban 11.13 2.772 2.056 0.040 S\\nRural 10.77 2.803\\nAttitude towards \\nscience in total\\nUrban 84.02 13.462 1.901 0.058 NS\\nRural 82.44 13.559\\nTable 3. Significant difference between urban and rural'),\n",
       " Document(metadata={}, page_content=\"college student teachers in their attitude towards \\nscience and its dimensions\\nRESEARCH PAPERS\\nusefulness of the subject content.\\nd) 28% of the student teachers have high level of \\nperception of teacher's attitude.\\ne) 25.1% of the student teachers have high level of \\nattitude towards science in total. (From Table 1)\\n2. a) 26.7% of the urban college student teachers have \\nhigh level of personal confidence about the subject \\nmatter and 20.1% of the rural college student teachers\"),\n",
       " Document(metadata={}, page_content='have high level of personal confidence about the subject \\nmatter.\\n b) 24.7% of the urban college student teachers have high \\nlevel of involvement with the subject and 26.8% of the \\nrural college student teachers have high level of \\ninvolvement with the subject.\\nc) 29.8 % of the urban college student teachers have high \\nlevel usefulness of the subject content and 26.0% of the \\nrural college student teachers have high level of \\nusefulness of the subject content.'),\n",
       " Document(metadata={}, page_content=\"usefulness of the subject content.\\nd) 31.5% of the urban college student teachers have high \\nlevel of perception of teacher's attitude and 25.4% of the \\nrural college student teachers have high level of \\nperception of teacher's attitude.\\ne) 27.6 % of the urban college student teachers have high \\nlevel of attitude towards science in total and 23.3% of the \\nrural college student teachers have high level of attitude \\ntowards science in total.(From Table 2)\"),\n",
       " Document(metadata={}, page_content=\"towards science in total.(From Table 2)\\n3.  There is no significant difference between urban \\ncollege student teachers and rural college student \\nteachers in their attitude towards science in total and its \\ndimensions-personal confidence about the subject \\nmatter, involvement with the subject, and usefulness of \\nthe subject content, whereas there is significant \\ndifference between urban and rural college student \\nteachers in the dimension-perception of teacher's \\nattitude.(From Table 3)\"),\n",
       " Document(metadata={}, page_content=\"attitude.(From Table 3)\\nDiscussion\\nFrom the present investigation, it is found that only 25.1% \\nof the sample has high level of attitude towards science. \\nWhile studying in terms of dimensions of attitude towards \\nscience, very small amount of the respondents have high \\nlevel of personal confidence about the subject matter, \\ninvolvement with the subject, usefulness of the subject \\ncontent and perception of teacher's attitude. Moreover \\nmajority of the sample have moderate level of attitude\"),\n",
       " Document(metadata={}, page_content='towards science and its dimensions. This implies that the \\nstudent teachers might have been exposed to minimum \\nlevels of science activities in their under graduate level \\nand hence they possess a moderate level of attitude \\ntowards science.\\nDimensions Low Moderate High\\nN % N % N %\\nPersonal Confidence \\nabout the subject \\nmatter\\n257 23.8 576 53.3 247 22.9\\nInvolvement \\nwith the subject 279 25.8 521 48.2 280 25.9\\nUsefulness of the \\nsubject content 289 26.8 493 45.6 298 27.6\\nPerception of'),\n",
       " Document(metadata={}, page_content='Perception of \\nteacher’s attitude 322 29.8 456 42.2 302 28.0\\nAttitude towards \\nscience in total 278 25.7 531 49.2 271 25.1\\nTable 1. Level of attitude of student teachers towards \\nscience and its dimensions\\nDimensions Locality Low Moderate High\\nN % N % N %\\nPersonal confidence \\nabout the subject \\nmatter\\nUrban 110 24.0 225 49.2 122 26.7\\nRural 147 23.6 351 56.3 125 20.1\\nInvolvement with the \\nsubject\\nUrban 120 26.3 224 49.0 113 24.7\\nRural 159 25.5 297 47.7 167 26.8\\nUsefulness of the \\nsubject content'),\n",
       " Document(metadata={}, page_content='Usefulness of the \\nsubject content\\nUrban 116 25.4 205 44.9 136 29.8\\nRural 173 27.8 288 46.2 162 26.0\\nPerception of teacher’s \\nattitude\\nUrban 126 27.6 187 40.9 144 31.5\\nRural 196 31.5 269 43.2 158 25.4\\nAttitude towards \\nscience in total\\nUrban 121 26.5 210 46.0 126 27.6\\nRural 157 25.2 321 51.5 145 23.3\\nTable 2. Level of attitude of student teachers towards science \\nand its dimensions in terms of  locality of the college'),\n",
       " Document(metadata={}, page_content='15li-manager’s Journal o  Psychology, Vol.   No. 3 ln Educational  7  November  - January 2014 2013\\nRESEARCH PAPERS\\nWith the sample of the study classified in terms of their \\nlocality of the college, it is observed that the 27.6 % of \\nurban college student teachers have high level of attitude \\ntowards science and only 27.3 % of rural college student \\nteachers have high level of attitude towards science. In \\nthe dimensions, personal confidence about the subject'),\n",
       " Document(metadata={}, page_content=\"matter, involvement with the subject, and usefulness of \\nthe subject content, and in perception of teacher's \\nattitude urban college student teachers are found to be \\nbetter than the rural college student teachers. This may be \\ndue to the fact that urban college student teachers have \\nopportunities of better infrastructural facilities, versatile \\nand qualified faculties and use of technological \\nresources.\\nFrom the analysis of data in the present investigation,\"),\n",
       " Document(metadata={}, page_content=\"urban college and rural college student teachers do not \\ndiffer significantly in their personal confidence about the \\nsubject matter, involvement with the subject and \\nusefulness of the subject content and attitude towards \\nscience in total whereas they differ significantly in their \\nperception of teacher's attitude. This may be due to the \\nfact that urban college student teachers feel free to talk to \\ntheir teachers and clarify their doubts regarding the\"),\n",
       " Document(metadata={}, page_content='subject and their career than rural college student \\nteachers.\\nRecommendations\\nThe authors suggested the following for improving the \\nattitude towards science of student teachers:\\n·It is found that attitude towards science of student \\nteachers is moderate.The rural teacher educational \\ninstitutions  should  provide rich environment to improve \\nthe science learning skill of the students.\\n·Science exhibitions should be organized in institutions \\nto stimulate student teachers natural curiosity.'),\n",
       " Document(metadata={}, page_content='to stimulate student teachers natural curiosity. \\n·Science club, Eco club and Nature club should be \\nestablished in institutions to encourage the student \\nteachers to participate in club activities.\\n·The institutions should arrange outdoor activities like \\ngardening, nature walk, visiting industries, camping etc in \\norder to increase the attitude of student teachers in \\nscience.\\n·Student teachers should be encouraged to read \\nmagazines and Journals that deal with science.'),\n",
       " Document(metadata={}, page_content='magazines and Journals that deal with science.\\n·Co-curricular and Extracurricular activities should be \\nencouraged to promote awareness about science. \\n·The mass media available may be properly utilized to \\ncreate awareness towards science.\\n·The institutions should provide high quality teacher \\neducators to teach science.\\nConclusion\\nThe author concluded that the locality-wise analysis on \\nattitude of student teachers towards science brought out'),\n",
       " Document(metadata={}, page_content=\"the fact that the rural college student teachers are lacking \\nin personal confidence about the subject matter, \\ninvolvement with the subject, usefulness of the subject \\ncontent, perception of teacher's attitude and attitude \\ntowards science in total.\\nReferences\\n[1]. Aggarwal, R. N. (1964). “Educational and \\nPsychological measurement”. Agra: Kalidass Printing \\nPress.\\n[2]. Aggarwal, Y.P. (2006). “Statistical Methods: Concepts, \\nApplication and Computation”. New Delhi: Sterling\"),\n",
       " Document(metadata={}, page_content='Publishers Pvt. Limited.\\n[3]. Best, John W. (1982). “Research in Science \\nEducation”. 4th Ed., New Delhi: Prentice Hall of India \\nPrivate Limited.\\n[4]. Bhandula, N., Chadha, P.C., Sharma,S. and Bhasin, \\nM.P.(1985). “Teaching of Science”. Ludhiana: Prakash \\nBrothers.\\n[5]. Bhaskara Rao, D. (1997). “Scientific Attitude”. New \\nDelhi: Discovery Publishing House.\\n[6]. Conant, J.B. (1951). “Science and Common Sense”. \\nNew Haven: Yale university press.'),\n",
       " Document(metadata={}, page_content='New Haven: Yale university press. \\n[7]. Crow, D. Laster and Crow Alice (1973). “Educational \\nPsychology”. New Delhi: Eurasia Publishing House Private \\nLimited.\\n[8]. Dandapani, S.(2006). “A text book of Advanced \\nEducational Psychology”. New Delhi: Anmol Publications \\nPrivate Limited.\\n[9]. Edwards Allen, L. (1967). “Techniques of Attitude \\n16 li-manager’s Journal o  Psychology, Vol.   No. 3 ln Educational  7  November  - January 2014 2013\\nRESEARCH PAPERS'),\n",
       " Document(metadata={}, page_content='RESEARCH PAPERS\\nscale Construction”. New York: Appleton Century Crafts \\nInc.\\n[10]. Elizabeth, B. Hurlock. (1981). “Developmental \\nPsychology”, A life span approach. 5th Ed., New Delhi: \\nTata-McGraw Hill Publishing Company limited.\\n[11]. Ernest, R. Hilgard, Richard, C.Atkinson and Rita,L. \\nAtkinson. (1958). “Introduction to Psychology”. 6th Ed., \\nNew Delhi: Oxford and IBH Publishing Company Private \\nLimited.\\n[12]. Garret, H. E. and Woodworth, R.S. (1969). “Statistics'),\n",
       " Document(metadata={}, page_content='in Psychology and Education”.5th Ed., Bombay: Vakils \\nFefer and Sons Private Limited.\\n[13]. Sharma, R. C. (1989). “Modern Science Teaching”. \\nNew Delhi: Dhanpat Rai and sons.\\n[14]. Vaidya and Narendra. (1976). “The Impact of \\nScience Teaching”. New Delhi: Oxford and IBH Publishing \\nCompany.\\nMr.S.Prakash is a research scholar at Manonmaniam Sundaranar University, Tirunelveli. Presently he is working as Assistant'),\n",
       " Document(metadata={}, page_content='Professor in Physical science at Velammal College of  Education, Ladenendal, Sivagangai district, Tamilnadu. He has obtained \\nBachelor degree in Chemistry at American College, Madurai and Master degree in Chemistry at Madura college, Madurai. He \\ncompleted his B.Ed., M.Ed. and M.Phil degrees in Education from Madurai Kamaraj University, Madurai. He has 7 years of \\nteaching experience in Colleges of Education. He has published 6 research articles and presented 15 papers. His areas of'),\n",
       " Document(metadata={}, page_content=\"interest are science education, guidance and counselling and educational psychology.\\nDr S Amaladoss Xavier, SJ is currently working as an Assistant Professor in Physical Science at St Xavier's College of Education, \\nPalayamkottai, TamilNadu. He has completed M.Sc., M.Phil.in Chemistry, M.Ed and Doctorate in Education, and MBA. He has \\n12 years working experience as PG Assistant in Chemistry. He has published more than 30 Research articles and presented 35\"),\n",
       " Document(metadata={}, page_content='papers in National and International seminars. He has also received the Best Chemistry Teacher Award in 1998-1999 from Jain \\nMahavir Association, Chennai. His areas of interest are research, soft skills and educational psychology.\\nABOUT THE AUTHORS\\n17li-manager’s Journal o  Psychology, Vol.   No. 3 ln Educational  7  November  - January 2014 2013')]"
      ]
     },
     "execution_count": 55,
     "metadata": {},
     "output_type": "execute_result"
    }
   ],
   "source": [
    "documents"
   ]
  },
  {
   "cell_type": "code",
   "execution_count": 13,
   "id": "aa266f20",
   "metadata": {},
   "outputs": [],
   "source": [
    "db = FAISS.from_documents(documents, embeddings_model)"
   ]
  },
  {
   "cell_type": "code",
   "execution_count": 14,
   "id": "672d4bfe",
   "metadata": {},
   "outputs": [
    {
     "name": "stdout",
     "output_type": "stream",
     "text": [
      "in Psychology and Education”.5th Ed., Bombay: Vakils \n",
      "Fefer and Sons Private Limited.\n",
      "[13]. Sharma, R. C. (1989). “Modern Science Teaching”. \n",
      "New Delhi: Dhanpat Rai and sons.\n",
      "[14]. Vaidya and Narendra. (1976). “The Impact of \n",
      "Science Teaching”. New Delhi: Oxford and IBH Publishing \n",
      "Company.\n",
      "Mr.S.Prakash is a research scholar at Manonmaniam Sundaranar University, Tirunelveli. Presently he is working as Assistant\n"
     ]
    }
   ],
   "source": [
    "query = \"who is S. PRAKASH\"\n",
    "docs = db.similarity_search(query)\n",
    "print(docs[0].page_content)"
   ]
  },
  {
   "cell_type": "code",
   "execution_count": 15,
   "id": "a1e6d366",
   "metadata": {},
   "outputs": [],
   "source": [
    "retriever = db.as_retriever(search_type=\"similarity\", search_kwargs={\"k\":2})"
   ]
  },
  {
   "cell_type": "code",
   "execution_count": 16,
   "id": "697656e9",
   "metadata": {},
   "outputs": [],
   "source": [
    "system_prompt = (\n",
    "    \"You are an assistant for question-answering tasks. \"\n",
    "    \"Use the following pieces of retrieved context to answer \"\n",
    "    \"the question. If you don't know the answer, say that you \"\n",
    "    \"don't know. Use three sentences maximum and keep the \"\n",
    "    \"answer concise.\"\n",
    "    \"\\n\\n\"\n",
    "    \"{context}\"\n",
    ")\n",
    "\n",
    "\n",
    "prompt = ChatPromptTemplate.from_messages(\n",
    "    [\n",
    "        (\"system\", system_prompt),\n",
    "        (\"human\", \"{input}\"),\n",
    "    ]\n",
    ")"
   ]
  },
  {
   "cell_type": "code",
   "execution_count": 17,
   "id": "a612b714",
   "metadata": {},
   "outputs": [],
   "source": [
    "question_answer_chain = create_stuff_documents_chain(llm, prompt)\n",
    "rag_chain = create_retrieval_chain(retriever, question_answer_chain)"
   ]
  },
  {
   "cell_type": "code",
   "execution_count": 18,
   "id": "3c9f10ac",
   "metadata": {},
   "outputs": [
    {
     "name": "stdout",
     "output_type": "stream",
     "text": [
      "S. Prakash is a research scholar at Manonmaniam Sundaranar University, Tirunelveli, who is currently working as an Assistant Professor. He has received the Best Chemistry Teacher Award in 1998-1999 from Jain Mahavir Association, Chennai, and is interested in research, soft skills, and educational psychology. He has presented papers in National and International seminars.\n"
     ]
    }
   ],
   "source": [
    "response = rag_chain.invoke({\"input\": \"who is S. PRAKASH\"})\n",
    "print(response[\"answer\"])"
   ]
  },
  {
   "cell_type": "code",
   "execution_count": null,
   "id": "a2f9b326",
   "metadata": {},
   "outputs": [],
   "source": []
  }
 ],
 "metadata": {
  "kernelspec": {
   "display_name": "venv1",
   "language": "python",
   "name": "python3"
  },
  "language_info": {
   "codemirror_mode": {
    "name": "ipython",
    "version": 3
   },
   "file_extension": ".py",
   "mimetype": "text/x-python",
   "name": "python",
   "nbconvert_exporter": "python",
   "pygments_lexer": "ipython3",
   "version": "3.12.9"
  }
 },
 "nbformat": 4,
 "nbformat_minor": 5
}
